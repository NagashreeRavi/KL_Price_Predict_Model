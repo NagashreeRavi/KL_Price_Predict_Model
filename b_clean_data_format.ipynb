{
 "cells": [
  {
   "cell_type": "code",
   "execution_count": 187,
   "metadata": {},
   "outputs": [],
   "source": [
    "#importing data management, data visualisation libraries.\n",
    "import numpy as np\n",
    "import pandas as pd\n",
    "import matplotlib.pyplot as plt\n",
    "import seaborn as sns"
   ]
  },
  {
   "cell_type": "code",
   "execution_count": 444,
   "metadata": {},
   "outputs": [
    {
     "data": {
      "text/html": [
       "<div>\n",
       "<style scoped>\n",
       "    .dataframe tbody tr th:only-of-type {\n",
       "        vertical-align: middle;\n",
       "    }\n",
       "\n",
       "    .dataframe tbody tr th {\n",
       "        vertical-align: top;\n",
       "    }\n",
       "\n",
       "    .dataframe thead th {\n",
       "        text-align: right;\n",
       "    }\n",
       "</style>\n",
       "<table border=\"1\" class=\"dataframe\">\n",
       "  <thead>\n",
       "    <tr style=\"text-align: right;\">\n",
       "      <th></th>\n",
       "      <th>Location</th>\n",
       "      <th>Price</th>\n",
       "      <th>Rooms</th>\n",
       "      <th>Bathrooms</th>\n",
       "      <th>Car Parks</th>\n",
       "      <th>Property Type</th>\n",
       "      <th>Size</th>\n",
       "      <th>Furnishing</th>\n",
       "    </tr>\n",
       "  </thead>\n",
       "  <tbody>\n",
       "    <tr>\n",
       "      <th>0</th>\n",
       "      <td>KLCC, Kuala Lumpur</td>\n",
       "      <td>RM 1,250,000</td>\n",
       "      <td>2+1</td>\n",
       "      <td>3.0</td>\n",
       "      <td>2.0</td>\n",
       "      <td>Serviced Residence</td>\n",
       "      <td>Built-up : 1,335 sq. ft.</td>\n",
       "      <td>Fully Furnished</td>\n",
       "    </tr>\n",
       "    <tr>\n",
       "      <th>1</th>\n",
       "      <td>Damansara Heights, Kuala Lumpur</td>\n",
       "      <td>RM 6,800,000</td>\n",
       "      <td>6</td>\n",
       "      <td>7.0</td>\n",
       "      <td>NaN</td>\n",
       "      <td>Bungalow</td>\n",
       "      <td>Land area : 6900 sq. ft.</td>\n",
       "      <td>Partly Furnished</td>\n",
       "    </tr>\n",
       "    <tr>\n",
       "      <th>2</th>\n",
       "      <td>Dutamas, Kuala Lumpur</td>\n",
       "      <td>RM 1,030,000</td>\n",
       "      <td>3</td>\n",
       "      <td>4.0</td>\n",
       "      <td>2.0</td>\n",
       "      <td>Condominium (Corner)</td>\n",
       "      <td>Built-up : 1,875 sq. ft.</td>\n",
       "      <td>Partly Furnished</td>\n",
       "    </tr>\n",
       "    <tr>\n",
       "      <th>3</th>\n",
       "      <td>Cheras, Kuala Lumpur</td>\n",
       "      <td>NaN</td>\n",
       "      <td>NaN</td>\n",
       "      <td>NaN</td>\n",
       "      <td>NaN</td>\n",
       "      <td>NaN</td>\n",
       "      <td>NaN</td>\n",
       "      <td>NaN</td>\n",
       "    </tr>\n",
       "    <tr>\n",
       "      <th>4</th>\n",
       "      <td>Bukit Jalil, Kuala Lumpur</td>\n",
       "      <td>RM 900,000</td>\n",
       "      <td>4+1</td>\n",
       "      <td>3.0</td>\n",
       "      <td>2.0</td>\n",
       "      <td>Condominium (Corner)</td>\n",
       "      <td>Built-up : 1,513 sq. ft.</td>\n",
       "      <td>Partly Furnished</td>\n",
       "    </tr>\n",
       "    <tr>\n",
       "      <th>...</th>\n",
       "      <td>...</td>\n",
       "      <td>...</td>\n",
       "      <td>...</td>\n",
       "      <td>...</td>\n",
       "      <td>...</td>\n",
       "      <td>...</td>\n",
       "      <td>...</td>\n",
       "      <td>...</td>\n",
       "    </tr>\n",
       "    <tr>\n",
       "      <th>49411</th>\n",
       "      <td>Bangsar, Kuala Lumpur</td>\n",
       "      <td>RM 5,100,000</td>\n",
       "      <td>5+1</td>\n",
       "      <td>4.0</td>\n",
       "      <td>NaN</td>\n",
       "      <td>Bungalow (Corner)</td>\n",
       "      <td>Land area : 7168 sq. ft.</td>\n",
       "      <td>Fully Furnished</td>\n",
       "    </tr>\n",
       "    <tr>\n",
       "      <th>49412</th>\n",
       "      <td>Bangsar, Kuala Lumpur</td>\n",
       "      <td>RM 5,000,000</td>\n",
       "      <td>5</td>\n",
       "      <td>4.0</td>\n",
       "      <td>NaN</td>\n",
       "      <td>Bungalow (Intermediate)</td>\n",
       "      <td>Land area : 15000 sq. ft.</td>\n",
       "      <td>Unfurnished</td>\n",
       "    </tr>\n",
       "    <tr>\n",
       "      <th>49413</th>\n",
       "      <td>Bangsar, Kuala Lumpur</td>\n",
       "      <td>RM 5,500,000</td>\n",
       "      <td>5+1</td>\n",
       "      <td>4.0</td>\n",
       "      <td>NaN</td>\n",
       "      <td>Bungalow (Intermediate)</td>\n",
       "      <td>Land area : 7168 sq. ft.</td>\n",
       "      <td>Partly Furnished</td>\n",
       "    </tr>\n",
       "    <tr>\n",
       "      <th>49414</th>\n",
       "      <td>Wangsa Maju, Kuala Lumpur</td>\n",
       "      <td>RM 480,000</td>\n",
       "      <td>3</td>\n",
       "      <td>2.0</td>\n",
       "      <td>NaN</td>\n",
       "      <td>Condominium (Intermediate)</td>\n",
       "      <td>Built-up : 1,150 sq. ft.</td>\n",
       "      <td>Unfurnished</td>\n",
       "    </tr>\n",
       "    <tr>\n",
       "      <th>49415</th>\n",
       "      <td>Setapak, Kuala Lumpur</td>\n",
       "      <td>RM 540,000</td>\n",
       "      <td>4</td>\n",
       "      <td>2.0</td>\n",
       "      <td>3.0</td>\n",
       "      <td>Condominium (Intermediate)</td>\n",
       "      <td>Built-up : 1,313 sq. ft.</td>\n",
       "      <td>Partly Furnished</td>\n",
       "    </tr>\n",
       "  </tbody>\n",
       "</table>\n",
       "<p>49416 rows × 8 columns</p>\n",
       "</div>"
      ],
      "text/plain": [
       "                              Location         Price Rooms  Bathrooms  \\\n",
       "0                   KLCC, Kuala Lumpur  RM 1,250,000   2+1        3.0   \n",
       "1      Damansara Heights, Kuala Lumpur  RM 6,800,000     6        7.0   \n",
       "2                Dutamas, Kuala Lumpur  RM 1,030,000     3        4.0   \n",
       "3                 Cheras, Kuala Lumpur           NaN   NaN        NaN   \n",
       "4            Bukit Jalil, Kuala Lumpur    RM 900,000   4+1        3.0   \n",
       "...                                ...           ...   ...        ...   \n",
       "49411            Bangsar, Kuala Lumpur  RM 5,100,000   5+1        4.0   \n",
       "49412            Bangsar, Kuala Lumpur  RM 5,000,000     5        4.0   \n",
       "49413            Bangsar, Kuala Lumpur  RM 5,500,000   5+1        4.0   \n",
       "49414        Wangsa Maju, Kuala Lumpur    RM 480,000     3        2.0   \n",
       "49415            Setapak, Kuala Lumpur    RM 540,000     4        2.0   \n",
       "\n",
       "       Car Parks               Property Type                       Size  \\\n",
       "0            2.0          Serviced Residence   Built-up : 1,335 sq. ft.   \n",
       "1            NaN                    Bungalow   Land area : 6900 sq. ft.   \n",
       "2            2.0        Condominium (Corner)   Built-up : 1,875 sq. ft.   \n",
       "3            NaN                         NaN                        NaN   \n",
       "4            2.0        Condominium (Corner)   Built-up : 1,513 sq. ft.   \n",
       "...          ...                         ...                        ...   \n",
       "49411        NaN           Bungalow (Corner)   Land area : 7168 sq. ft.   \n",
       "49412        NaN     Bungalow (Intermediate)  Land area : 15000 sq. ft.   \n",
       "49413        NaN     Bungalow (Intermediate)   Land area : 7168 sq. ft.   \n",
       "49414        NaN  Condominium (Intermediate)   Built-up : 1,150 sq. ft.   \n",
       "49415        3.0  Condominium (Intermediate)   Built-up : 1,313 sq. ft.   \n",
       "\n",
       "             Furnishing  \n",
       "0       Fully Furnished  \n",
       "1      Partly Furnished  \n",
       "2      Partly Furnished  \n",
       "3                   NaN  \n",
       "4      Partly Furnished  \n",
       "...                 ...  \n",
       "49411   Fully Furnished  \n",
       "49412       Unfurnished  \n",
       "49413  Partly Furnished  \n",
       "49414       Unfurnished  \n",
       "49415  Partly Furnished  \n",
       "\n",
       "[49416 rows x 8 columns]"
      ]
     },
     "execution_count": 444,
     "metadata": {},
     "output_type": "execute_result"
    }
   ],
   "source": [
    "data= pd.read_csv('KL_no_duplicates_data.csv')\n",
    "data"
   ]
  },
  {
   "cell_type": "code",
   "execution_count": 445,
   "metadata": {},
   "outputs": [
    {
     "name": "stdout",
     "output_type": "stream",
     "text": [
      "<class 'pandas.core.frame.DataFrame'>\n",
      "RangeIndex: 49416 entries, 0 to 49415\n",
      "Data columns (total 8 columns):\n",
      " #   Column         Non-Null Count  Dtype  \n",
      "---  ------         --------------  -----  \n",
      " 0   Location       49416 non-null  object \n",
      " 1   Price          49198 non-null  object \n",
      " 2   Rooms          47836 non-null  object \n",
      " 3   Bathrooms      47552 non-null  float64\n",
      " 4   Car Parks      33114 non-null  float64\n",
      " 5   Property Type  49398 non-null  object \n",
      " 6   Size           48400 non-null  object \n",
      " 7   Furnishing     42989 non-null  object \n",
      "dtypes: float64(2), object(6)\n",
      "memory usage: 3.0+ MB\n"
     ]
    }
   ],
   "source": [
    "data.info()"
   ]
  },
  {
   "cell_type": "code",
   "execution_count": 419,
   "metadata": {},
   "outputs": [
    {
     "data": {
      "text/plain": [
       "Location             0\n",
       "Price              218\n",
       "Rooms             1580\n",
       "Bathrooms         1864\n",
       "Car Parks        16302\n",
       "Property Type       18\n",
       "Size              1016\n",
       "Furnishing        6427\n",
       "dtype: int64"
      ]
     },
     "execution_count": 419,
     "metadata": {},
     "output_type": "execute_result"
    }
   ],
   "source": [
    "data.isna().sum()"
   ]
  },
  {
   "cell_type": "code",
   "execution_count": 446,
   "metadata": {},
   "outputs": [
    {
     "data": {
      "text/html": [
       "<div>\n",
       "<style scoped>\n",
       "    .dataframe tbody tr th:only-of-type {\n",
       "        vertical-align: middle;\n",
       "    }\n",
       "\n",
       "    .dataframe tbody tr th {\n",
       "        vertical-align: top;\n",
       "    }\n",
       "\n",
       "    .dataframe thead th {\n",
       "        text-align: right;\n",
       "    }\n",
       "</style>\n",
       "<table border=\"1\" class=\"dataframe\">\n",
       "  <thead>\n",
       "    <tr style=\"text-align: right;\">\n",
       "      <th></th>\n",
       "      <th>Price</th>\n",
       "      <th>Rooms</th>\n",
       "      <th>Bathrooms</th>\n",
       "      <th>Car Parks</th>\n",
       "      <th>Property Type</th>\n",
       "      <th>Size</th>\n",
       "      <th>Furnishing</th>\n",
       "      <th>area</th>\n",
       "    </tr>\n",
       "  </thead>\n",
       "  <tbody>\n",
       "    <tr>\n",
       "      <th>0</th>\n",
       "      <td>RM 1,250,000</td>\n",
       "      <td>2+1</td>\n",
       "      <td>3.0</td>\n",
       "      <td>2.0</td>\n",
       "      <td>Serviced Residence</td>\n",
       "      <td>Built-up : 1,335 sq. ft.</td>\n",
       "      <td>Fully Furnished</td>\n",
       "      <td>KLCC</td>\n",
       "    </tr>\n",
       "    <tr>\n",
       "      <th>1</th>\n",
       "      <td>RM 6,800,000</td>\n",
       "      <td>6</td>\n",
       "      <td>7.0</td>\n",
       "      <td>NaN</td>\n",
       "      <td>Bungalow</td>\n",
       "      <td>Land area : 6900 sq. ft.</td>\n",
       "      <td>Partly Furnished</td>\n",
       "      <td>Damansara Heights</td>\n",
       "    </tr>\n",
       "    <tr>\n",
       "      <th>2</th>\n",
       "      <td>RM 1,030,000</td>\n",
       "      <td>3</td>\n",
       "      <td>4.0</td>\n",
       "      <td>2.0</td>\n",
       "      <td>Condominium (Corner)</td>\n",
       "      <td>Built-up : 1,875 sq. ft.</td>\n",
       "      <td>Partly Furnished</td>\n",
       "      <td>Dutamas</td>\n",
       "    </tr>\n",
       "    <tr>\n",
       "      <th>3</th>\n",
       "      <td>NaN</td>\n",
       "      <td>NaN</td>\n",
       "      <td>NaN</td>\n",
       "      <td>NaN</td>\n",
       "      <td>NaN</td>\n",
       "      <td>NaN</td>\n",
       "      <td>NaN</td>\n",
       "      <td>Cheras</td>\n",
       "    </tr>\n",
       "    <tr>\n",
       "      <th>4</th>\n",
       "      <td>RM 900,000</td>\n",
       "      <td>4+1</td>\n",
       "      <td>3.0</td>\n",
       "      <td>2.0</td>\n",
       "      <td>Condominium (Corner)</td>\n",
       "      <td>Built-up : 1,513 sq. ft.</td>\n",
       "      <td>Partly Furnished</td>\n",
       "      <td>Bukit Jalil</td>\n",
       "    </tr>\n",
       "    <tr>\n",
       "      <th>...</th>\n",
       "      <td>...</td>\n",
       "      <td>...</td>\n",
       "      <td>...</td>\n",
       "      <td>...</td>\n",
       "      <td>...</td>\n",
       "      <td>...</td>\n",
       "      <td>...</td>\n",
       "      <td>...</td>\n",
       "    </tr>\n",
       "    <tr>\n",
       "      <th>49411</th>\n",
       "      <td>RM 5,100,000</td>\n",
       "      <td>5+1</td>\n",
       "      <td>4.0</td>\n",
       "      <td>NaN</td>\n",
       "      <td>Bungalow (Corner)</td>\n",
       "      <td>Land area : 7168 sq. ft.</td>\n",
       "      <td>Fully Furnished</td>\n",
       "      <td>Bangsar</td>\n",
       "    </tr>\n",
       "    <tr>\n",
       "      <th>49412</th>\n",
       "      <td>RM 5,000,000</td>\n",
       "      <td>5</td>\n",
       "      <td>4.0</td>\n",
       "      <td>NaN</td>\n",
       "      <td>Bungalow (Intermediate)</td>\n",
       "      <td>Land area : 15000 sq. ft.</td>\n",
       "      <td>Unfurnished</td>\n",
       "      <td>Bangsar</td>\n",
       "    </tr>\n",
       "    <tr>\n",
       "      <th>49413</th>\n",
       "      <td>RM 5,500,000</td>\n",
       "      <td>5+1</td>\n",
       "      <td>4.0</td>\n",
       "      <td>NaN</td>\n",
       "      <td>Bungalow (Intermediate)</td>\n",
       "      <td>Land area : 7168 sq. ft.</td>\n",
       "      <td>Partly Furnished</td>\n",
       "      <td>Bangsar</td>\n",
       "    </tr>\n",
       "    <tr>\n",
       "      <th>49414</th>\n",
       "      <td>RM 480,000</td>\n",
       "      <td>3</td>\n",
       "      <td>2.0</td>\n",
       "      <td>NaN</td>\n",
       "      <td>Condominium (Intermediate)</td>\n",
       "      <td>Built-up : 1,150 sq. ft.</td>\n",
       "      <td>Unfurnished</td>\n",
       "      <td>Wangsa Maju</td>\n",
       "    </tr>\n",
       "    <tr>\n",
       "      <th>49415</th>\n",
       "      <td>RM 540,000</td>\n",
       "      <td>4</td>\n",
       "      <td>2.0</td>\n",
       "      <td>3.0</td>\n",
       "      <td>Condominium (Intermediate)</td>\n",
       "      <td>Built-up : 1,313 sq. ft.</td>\n",
       "      <td>Partly Furnished</td>\n",
       "      <td>Setapak</td>\n",
       "    </tr>\n",
       "  </tbody>\n",
       "</table>\n",
       "<p>49416 rows × 8 columns</p>\n",
       "</div>"
      ],
      "text/plain": [
       "              Price Rooms  Bathrooms  Car Parks               Property Type  \\\n",
       "0      RM 1,250,000   2+1        3.0        2.0          Serviced Residence   \n",
       "1      RM 6,800,000     6        7.0        NaN                    Bungalow   \n",
       "2      RM 1,030,000     3        4.0        2.0        Condominium (Corner)   \n",
       "3               NaN   NaN        NaN        NaN                         NaN   \n",
       "4        RM 900,000   4+1        3.0        2.0        Condominium (Corner)   \n",
       "...             ...   ...        ...        ...                         ...   \n",
       "49411  RM 5,100,000   5+1        4.0        NaN           Bungalow (Corner)   \n",
       "49412  RM 5,000,000     5        4.0        NaN     Bungalow (Intermediate)   \n",
       "49413  RM 5,500,000   5+1        4.0        NaN     Bungalow (Intermediate)   \n",
       "49414    RM 480,000     3        2.0        NaN  Condominium (Intermediate)   \n",
       "49415    RM 540,000     4        2.0        3.0  Condominium (Intermediate)   \n",
       "\n",
       "                            Size        Furnishing               area  \n",
       "0       Built-up : 1,335 sq. ft.   Fully Furnished               KLCC  \n",
       "1       Land area : 6900 sq. ft.  Partly Furnished  Damansara Heights  \n",
       "2       Built-up : 1,875 sq. ft.  Partly Furnished            Dutamas  \n",
       "3                            NaN               NaN             Cheras  \n",
       "4       Built-up : 1,513 sq. ft.  Partly Furnished        Bukit Jalil  \n",
       "...                          ...               ...                ...  \n",
       "49411   Land area : 7168 sq. ft.   Fully Furnished            Bangsar  \n",
       "49412  Land area : 15000 sq. ft.       Unfurnished            Bangsar  \n",
       "49413   Land area : 7168 sq. ft.  Partly Furnished            Bangsar  \n",
       "49414   Built-up : 1,150 sq. ft.       Unfurnished        Wangsa Maju  \n",
       "49415   Built-up : 1,313 sq. ft.  Partly Furnished            Setapak  \n",
       "\n",
       "[49416 rows x 8 columns]"
      ]
     },
     "execution_count": 446,
     "metadata": {},
     "output_type": "execute_result"
    }
   ],
   "source": [
    "#Formatting Location column\n",
    "# Split the column with commas into two separate columns\n",
    "data[['area', 'L2', 'L3']] = data['Location'].str.split(',' ,expand=True)\n",
    "data.drop(columns=[\"Location\",\"L2\",\"L3\"], inplace=True)\n",
    "data"
   ]
  },
  {
   "cell_type": "code",
   "execution_count": 447,
   "metadata": {},
   "outputs": [
    {
     "data": {
      "text/html": [
       "<div>\n",
       "<style scoped>\n",
       "    .dataframe tbody tr th:only-of-type {\n",
       "        vertical-align: middle;\n",
       "    }\n",
       "\n",
       "    .dataframe tbody tr th {\n",
       "        vertical-align: top;\n",
       "    }\n",
       "\n",
       "    .dataframe thead th {\n",
       "        text-align: right;\n",
       "    }\n",
       "</style>\n",
       "<table border=\"1\" class=\"dataframe\">\n",
       "  <thead>\n",
       "    <tr style=\"text-align: right;\">\n",
       "      <th></th>\n",
       "      <th>Price</th>\n",
       "      <th>Rooms</th>\n",
       "      <th>Bathrooms</th>\n",
       "      <th>Car Parks</th>\n",
       "      <th>Property Type</th>\n",
       "      <th>Size</th>\n",
       "      <th>Furnishing</th>\n",
       "      <th>Location</th>\n",
       "    </tr>\n",
       "  </thead>\n",
       "  <tbody>\n",
       "    <tr>\n",
       "      <th>0</th>\n",
       "      <td>RM 1,250,000</td>\n",
       "      <td>2+1</td>\n",
       "      <td>3.0</td>\n",
       "      <td>2.0</td>\n",
       "      <td>Serviced Residence</td>\n",
       "      <td>Built-up : 1,335 sq. ft.</td>\n",
       "      <td>Fully Furnished</td>\n",
       "      <td>KLCC</td>\n",
       "    </tr>\n",
       "    <tr>\n",
       "      <th>1</th>\n",
       "      <td>RM 6,800,000</td>\n",
       "      <td>6</td>\n",
       "      <td>7.0</td>\n",
       "      <td>NaN</td>\n",
       "      <td>Bungalow</td>\n",
       "      <td>Land area : 6900 sq. ft.</td>\n",
       "      <td>Partly Furnished</td>\n",
       "      <td>Damansara Heights</td>\n",
       "    </tr>\n",
       "    <tr>\n",
       "      <th>2</th>\n",
       "      <td>RM 1,030,000</td>\n",
       "      <td>3</td>\n",
       "      <td>4.0</td>\n",
       "      <td>2.0</td>\n",
       "      <td>Condominium (Corner)</td>\n",
       "      <td>Built-up : 1,875 sq. ft.</td>\n",
       "      <td>Partly Furnished</td>\n",
       "      <td>Dutamas</td>\n",
       "    </tr>\n",
       "    <tr>\n",
       "      <th>3</th>\n",
       "      <td>NaN</td>\n",
       "      <td>NaN</td>\n",
       "      <td>NaN</td>\n",
       "      <td>NaN</td>\n",
       "      <td>NaN</td>\n",
       "      <td>NaN</td>\n",
       "      <td>NaN</td>\n",
       "      <td>Cheras</td>\n",
       "    </tr>\n",
       "    <tr>\n",
       "      <th>4</th>\n",
       "      <td>RM 900,000</td>\n",
       "      <td>4+1</td>\n",
       "      <td>3.0</td>\n",
       "      <td>2.0</td>\n",
       "      <td>Condominium (Corner)</td>\n",
       "      <td>Built-up : 1,513 sq. ft.</td>\n",
       "      <td>Partly Furnished</td>\n",
       "      <td>Bukit Jalil</td>\n",
       "    </tr>\n",
       "    <tr>\n",
       "      <th>...</th>\n",
       "      <td>...</td>\n",
       "      <td>...</td>\n",
       "      <td>...</td>\n",
       "      <td>...</td>\n",
       "      <td>...</td>\n",
       "      <td>...</td>\n",
       "      <td>...</td>\n",
       "      <td>...</td>\n",
       "    </tr>\n",
       "    <tr>\n",
       "      <th>49411</th>\n",
       "      <td>RM 5,100,000</td>\n",
       "      <td>5+1</td>\n",
       "      <td>4.0</td>\n",
       "      <td>NaN</td>\n",
       "      <td>Bungalow (Corner)</td>\n",
       "      <td>Land area : 7168 sq. ft.</td>\n",
       "      <td>Fully Furnished</td>\n",
       "      <td>Bangsar</td>\n",
       "    </tr>\n",
       "    <tr>\n",
       "      <th>49412</th>\n",
       "      <td>RM 5,000,000</td>\n",
       "      <td>5</td>\n",
       "      <td>4.0</td>\n",
       "      <td>NaN</td>\n",
       "      <td>Bungalow (Intermediate)</td>\n",
       "      <td>Land area : 15000 sq. ft.</td>\n",
       "      <td>Unfurnished</td>\n",
       "      <td>Bangsar</td>\n",
       "    </tr>\n",
       "    <tr>\n",
       "      <th>49413</th>\n",
       "      <td>RM 5,500,000</td>\n",
       "      <td>5+1</td>\n",
       "      <td>4.0</td>\n",
       "      <td>NaN</td>\n",
       "      <td>Bungalow (Intermediate)</td>\n",
       "      <td>Land area : 7168 sq. ft.</td>\n",
       "      <td>Partly Furnished</td>\n",
       "      <td>Bangsar</td>\n",
       "    </tr>\n",
       "    <tr>\n",
       "      <th>49414</th>\n",
       "      <td>RM 480,000</td>\n",
       "      <td>3</td>\n",
       "      <td>2.0</td>\n",
       "      <td>NaN</td>\n",
       "      <td>Condominium (Intermediate)</td>\n",
       "      <td>Built-up : 1,150 sq. ft.</td>\n",
       "      <td>Unfurnished</td>\n",
       "      <td>Wangsa Maju</td>\n",
       "    </tr>\n",
       "    <tr>\n",
       "      <th>49415</th>\n",
       "      <td>RM 540,000</td>\n",
       "      <td>4</td>\n",
       "      <td>2.0</td>\n",
       "      <td>3.0</td>\n",
       "      <td>Condominium (Intermediate)</td>\n",
       "      <td>Built-up : 1,313 sq. ft.</td>\n",
       "      <td>Partly Furnished</td>\n",
       "      <td>Setapak</td>\n",
       "    </tr>\n",
       "  </tbody>\n",
       "</table>\n",
       "<p>49416 rows × 8 columns</p>\n",
       "</div>"
      ],
      "text/plain": [
       "              Price Rooms  Bathrooms  Car Parks               Property Type  \\\n",
       "0      RM 1,250,000   2+1        3.0        2.0          Serviced Residence   \n",
       "1      RM 6,800,000     6        7.0        NaN                    Bungalow   \n",
       "2      RM 1,030,000     3        4.0        2.0        Condominium (Corner)   \n",
       "3               NaN   NaN        NaN        NaN                         NaN   \n",
       "4        RM 900,000   4+1        3.0        2.0        Condominium (Corner)   \n",
       "...             ...   ...        ...        ...                         ...   \n",
       "49411  RM 5,100,000   5+1        4.0        NaN           Bungalow (Corner)   \n",
       "49412  RM 5,000,000     5        4.0        NaN     Bungalow (Intermediate)   \n",
       "49413  RM 5,500,000   5+1        4.0        NaN     Bungalow (Intermediate)   \n",
       "49414    RM 480,000     3        2.0        NaN  Condominium (Intermediate)   \n",
       "49415    RM 540,000     4        2.0        3.0  Condominium (Intermediate)   \n",
       "\n",
       "                            Size        Furnishing           Location  \n",
       "0       Built-up : 1,335 sq. ft.   Fully Furnished               KLCC  \n",
       "1       Land area : 6900 sq. ft.  Partly Furnished  Damansara Heights  \n",
       "2       Built-up : 1,875 sq. ft.  Partly Furnished            Dutamas  \n",
       "3                            NaN               NaN             Cheras  \n",
       "4       Built-up : 1,513 sq. ft.  Partly Furnished        Bukit Jalil  \n",
       "...                          ...               ...                ...  \n",
       "49411   Land area : 7168 sq. ft.   Fully Furnished            Bangsar  \n",
       "49412  Land area : 15000 sq. ft.       Unfurnished            Bangsar  \n",
       "49413   Land area : 7168 sq. ft.  Partly Furnished            Bangsar  \n",
       "49414   Built-up : 1,150 sq. ft.       Unfurnished        Wangsa Maju  \n",
       "49415   Built-up : 1,313 sq. ft.  Partly Furnished            Setapak  \n",
       "\n",
       "[49416 rows x 8 columns]"
      ]
     },
     "execution_count": 447,
     "metadata": {},
     "output_type": "execute_result"
    }
   ],
   "source": [
    "#Rename to location and drop area\n",
    "data['Location'] = data['area']\n",
    "data.drop(columns=[\"area\"], inplace=True)\n",
    "data\n"
   ]
  },
  {
   "cell_type": "code",
   "execution_count": 448,
   "metadata": {},
   "outputs": [
    {
     "data": {
      "text/plain": [
       "Price\n",
       "RM 1,200,000    646\n",
       "RM 1,100,000    581\n",
       "RM 650,000      578\n",
       "RM 1,300,000    509\n",
       "RM 850,000      495\n",
       "               ... \n",
       "RM 2,686,790      1\n",
       "RM 3,658,000      1\n",
       "RM 4,584,450      1\n",
       "RM 881,000        1\n",
       "RM 642,800        1\n",
       "Name: count, Length: 4280, dtype: int64"
      ]
     },
     "execution_count": 448,
     "metadata": {},
     "output_type": "execute_result"
    }
   ],
   "source": [
    "data['Price'].value_counts()"
   ]
  },
  {
   "cell_type": "code",
   "execution_count": 449,
   "metadata": {},
   "outputs": [],
   "source": [
    "#Drop rows with price: NAN\n",
    "\n",
    "data.dropna(subset=['Price'], inplace=True)\n",
    "\n"
   ]
  },
  {
   "cell_type": "code",
   "execution_count": 450,
   "metadata": {},
   "outputs": [
    {
     "data": {
      "text/plain": [
       "0"
      ]
     },
     "execution_count": 450,
     "metadata": {},
     "output_type": "execute_result"
    }
   ],
   "source": [
    "data['Price'].isna().sum()"
   ]
  },
  {
   "cell_type": "code",
   "execution_count": 451,
   "metadata": {},
   "outputs": [],
   "source": [
    "#Format Price column\n",
    "data['Price'] = data['Price'].str.replace(r'\\D+', '', regex=True).astype(int)"
   ]
  },
  {
   "cell_type": "code",
   "execution_count": 452,
   "metadata": {},
   "outputs": [
    {
     "data": {
      "text/html": [
       "<div>\n",
       "<style scoped>\n",
       "    .dataframe tbody tr th:only-of-type {\n",
       "        vertical-align: middle;\n",
       "    }\n",
       "\n",
       "    .dataframe tbody tr th {\n",
       "        vertical-align: top;\n",
       "    }\n",
       "\n",
       "    .dataframe thead th {\n",
       "        text-align: right;\n",
       "    }\n",
       "</style>\n",
       "<table border=\"1\" class=\"dataframe\">\n",
       "  <thead>\n",
       "    <tr style=\"text-align: right;\">\n",
       "      <th></th>\n",
       "      <th>Price</th>\n",
       "      <th>Rooms</th>\n",
       "      <th>Bathrooms</th>\n",
       "      <th>Car Parks</th>\n",
       "      <th>Property Type</th>\n",
       "      <th>Size</th>\n",
       "      <th>Furnishing</th>\n",
       "      <th>Location</th>\n",
       "    </tr>\n",
       "  </thead>\n",
       "  <tbody>\n",
       "    <tr>\n",
       "      <th>0</th>\n",
       "      <td>1250000</td>\n",
       "      <td>2+1</td>\n",
       "      <td>3.0</td>\n",
       "      <td>2.0</td>\n",
       "      <td>Serviced Residence</td>\n",
       "      <td>Built-up : 1,335 sq. ft.</td>\n",
       "      <td>Fully Furnished</td>\n",
       "      <td>KLCC</td>\n",
       "    </tr>\n",
       "    <tr>\n",
       "      <th>1</th>\n",
       "      <td>6800000</td>\n",
       "      <td>6</td>\n",
       "      <td>7.0</td>\n",
       "      <td>NaN</td>\n",
       "      <td>Bungalow</td>\n",
       "      <td>Land area : 6900 sq. ft.</td>\n",
       "      <td>Partly Furnished</td>\n",
       "      <td>Damansara Heights</td>\n",
       "    </tr>\n",
       "    <tr>\n",
       "      <th>2</th>\n",
       "      <td>1030000</td>\n",
       "      <td>3</td>\n",
       "      <td>4.0</td>\n",
       "      <td>2.0</td>\n",
       "      <td>Condominium (Corner)</td>\n",
       "      <td>Built-up : 1,875 sq. ft.</td>\n",
       "      <td>Partly Furnished</td>\n",
       "      <td>Dutamas</td>\n",
       "    </tr>\n",
       "  </tbody>\n",
       "</table>\n",
       "</div>"
      ],
      "text/plain": [
       "     Price Rooms  Bathrooms  Car Parks         Property Type  \\\n",
       "0  1250000   2+1        3.0        2.0    Serviced Residence   \n",
       "1  6800000     6        7.0        NaN              Bungalow   \n",
       "2  1030000     3        4.0        2.0  Condominium (Corner)   \n",
       "\n",
       "                       Size        Furnishing           Location  \n",
       "0  Built-up : 1,335 sq. ft.   Fully Furnished               KLCC  \n",
       "1  Land area : 6900 sq. ft.  Partly Furnished  Damansara Heights  \n",
       "2  Built-up : 1,875 sq. ft.  Partly Furnished            Dutamas  "
      ]
     },
     "execution_count": 452,
     "metadata": {},
     "output_type": "execute_result"
    }
   ],
   "source": [
    "data.head(3)"
   ]
  },
  {
   "cell_type": "code",
   "execution_count": 453,
   "metadata": {},
   "outputs": [],
   "source": [
    "# Splitting the Rooms column and creating two new columns, no of bed room, servant rooms\n",
    "data[['Bedrooms', 'Additional_Rooms']] = data['Rooms'].str.split('+', expand=True)\n",
    "data.drop(columns=\"Rooms\", inplace=True)"
   ]
  },
  {
   "cell_type": "code",
   "execution_count": 454,
   "metadata": {},
   "outputs": [
    {
     "data": {
      "text/html": [
       "<div>\n",
       "<style scoped>\n",
       "    .dataframe tbody tr th:only-of-type {\n",
       "        vertical-align: middle;\n",
       "    }\n",
       "\n",
       "    .dataframe tbody tr th {\n",
       "        vertical-align: top;\n",
       "    }\n",
       "\n",
       "    .dataframe thead th {\n",
       "        text-align: right;\n",
       "    }\n",
       "</style>\n",
       "<table border=\"1\" class=\"dataframe\">\n",
       "  <thead>\n",
       "    <tr style=\"text-align: right;\">\n",
       "      <th></th>\n",
       "      <th>Price</th>\n",
       "      <th>Bathrooms</th>\n",
       "      <th>Car Parks</th>\n",
       "      <th>Property Type</th>\n",
       "      <th>Size</th>\n",
       "      <th>Furnishing</th>\n",
       "      <th>Location</th>\n",
       "      <th>Bedrooms</th>\n",
       "      <th>Additional_Rooms</th>\n",
       "    </tr>\n",
       "  </thead>\n",
       "  <tbody>\n",
       "    <tr>\n",
       "      <th>0</th>\n",
       "      <td>1250000</td>\n",
       "      <td>3.0</td>\n",
       "      <td>2.0</td>\n",
       "      <td>Serviced Residence</td>\n",
       "      <td>Built-up : 1,335 sq. ft.</td>\n",
       "      <td>Fully Furnished</td>\n",
       "      <td>KLCC</td>\n",
       "      <td>2</td>\n",
       "      <td>1</td>\n",
       "    </tr>\n",
       "    <tr>\n",
       "      <th>1</th>\n",
       "      <td>6800000</td>\n",
       "      <td>7.0</td>\n",
       "      <td>NaN</td>\n",
       "      <td>Bungalow</td>\n",
       "      <td>Land area : 6900 sq. ft.</td>\n",
       "      <td>Partly Furnished</td>\n",
       "      <td>Damansara Heights</td>\n",
       "      <td>6</td>\n",
       "      <td>None</td>\n",
       "    </tr>\n",
       "    <tr>\n",
       "      <th>2</th>\n",
       "      <td>1030000</td>\n",
       "      <td>4.0</td>\n",
       "      <td>2.0</td>\n",
       "      <td>Condominium (Corner)</td>\n",
       "      <td>Built-up : 1,875 sq. ft.</td>\n",
       "      <td>Partly Furnished</td>\n",
       "      <td>Dutamas</td>\n",
       "      <td>3</td>\n",
       "      <td>None</td>\n",
       "    </tr>\n",
       "  </tbody>\n",
       "</table>\n",
       "</div>"
      ],
      "text/plain": [
       "     Price  Bathrooms  Car Parks         Property Type  \\\n",
       "0  1250000        3.0        2.0    Serviced Residence   \n",
       "1  6800000        7.0        NaN              Bungalow   \n",
       "2  1030000        4.0        2.0  Condominium (Corner)   \n",
       "\n",
       "                       Size        Furnishing           Location Bedrooms  \\\n",
       "0  Built-up : 1,335 sq. ft.   Fully Furnished               KLCC        2   \n",
       "1  Land area : 6900 sq. ft.  Partly Furnished  Damansara Heights        6   \n",
       "2  Built-up : 1,875 sq. ft.  Partly Furnished            Dutamas        3   \n",
       "\n",
       "  Additional_Rooms  \n",
       "0                1  \n",
       "1             None  \n",
       "2             None  "
      ]
     },
     "execution_count": 454,
     "metadata": {},
     "output_type": "execute_result"
    }
   ],
   "source": [
    "data.head(3)"
   ]
  },
  {
   "cell_type": "code",
   "execution_count": 455,
   "metadata": {},
   "outputs": [
    {
     "data": {
      "text/plain": [
       "Price                   0\n",
       "Bathrooms            1822\n",
       "Car Parks           16190\n",
       "Property Type           0\n",
       "Size                  988\n",
       "Furnishing           6366\n",
       "Location                0\n",
       "Bedrooms             1538\n",
       "Additional_Rooms    30050\n",
       "dtype: int64"
      ]
     },
     "execution_count": 455,
     "metadata": {},
     "output_type": "execute_result"
    }
   ],
   "source": [
    "data.isna().sum()"
   ]
  },
  {
   "cell_type": "code",
   "execution_count": 456,
   "metadata": {},
   "outputs": [],
   "source": [
    "data['Additional_Rooms'].fillna(value=0, inplace=True)"
   ]
  },
  {
   "cell_type": "code",
   "execution_count": 458,
   "metadata": {},
   "outputs": [
    {
     "data": {
      "text/plain": [
       "Price                   0\n",
       "Bathrooms            1822\n",
       "Car Parks           16190\n",
       "Property Type           0\n",
       "Size                  988\n",
       "Furnishing           6366\n",
       "Location                0\n",
       "Bedrooms             1538\n",
       "Additional_Rooms        0\n",
       "dtype: int64"
      ]
     },
     "execution_count": 458,
     "metadata": {},
     "output_type": "execute_result"
    }
   ],
   "source": [
    "data.isna().sum()"
   ]
  },
  {
   "cell_type": "code",
   "execution_count": 459,
   "metadata": {},
   "outputs": [],
   "source": [
    "# Fill NaN values in the 'Bathrooms' column with 0 where 'Property Type' contains 'residential property'\n",
    "data.loc[data['Property Type'].str.contains('Residential Land', case=False), 'Bathrooms'] = data['Bathrooms'].fillna(0)\n"
   ]
  },
  {
   "cell_type": "code",
   "execution_count": 460,
   "metadata": {},
   "outputs": [],
   "source": [
    "data.loc[data['Property Type'].str.contains('Residential Land', case=False), 'Car Parks'] = data['Car Parks'].fillna(0)"
   ]
  },
  {
   "cell_type": "code",
   "execution_count": 462,
   "metadata": {},
   "outputs": [
    {
     "data": {
      "text/plain": [
       "Price                   0\n",
       "Bathrooms            1171\n",
       "Car Parks           15529\n",
       "Property Type           0\n",
       "Size                  988\n",
       "Furnishing           6366\n",
       "Location                0\n",
       "Bedrooms             1538\n",
       "Additional_Rooms        0\n",
       "Studio                  0\n",
       "dtype: int64"
      ]
     },
     "execution_count": 462,
     "metadata": {},
     "output_type": "execute_result"
    }
   ],
   "source": [
    "data.isna().sum()\n"
   ]
  },
  {
   "cell_type": "code",
   "execution_count": 461,
   "metadata": {},
   "outputs": [
    {
     "data": {
      "text/html": [
       "<div>\n",
       "<style scoped>\n",
       "    .dataframe tbody tr th:only-of-type {\n",
       "        vertical-align: middle;\n",
       "    }\n",
       "\n",
       "    .dataframe tbody tr th {\n",
       "        vertical-align: top;\n",
       "    }\n",
       "\n",
       "    .dataframe thead th {\n",
       "        text-align: right;\n",
       "    }\n",
       "</style>\n",
       "<table border=\"1\" class=\"dataframe\">\n",
       "  <thead>\n",
       "    <tr style=\"text-align: right;\">\n",
       "      <th></th>\n",
       "      <th>Price</th>\n",
       "      <th>Bathrooms</th>\n",
       "      <th>Car Parks</th>\n",
       "      <th>Property Type</th>\n",
       "      <th>Size</th>\n",
       "      <th>Furnishing</th>\n",
       "      <th>Location</th>\n",
       "      <th>Bedrooms</th>\n",
       "      <th>Additional_Rooms</th>\n",
       "      <th>Studio</th>\n",
       "    </tr>\n",
       "  </thead>\n",
       "  <tbody>\n",
       "    <tr>\n",
       "      <th>0</th>\n",
       "      <td>1250000</td>\n",
       "      <td>3.0</td>\n",
       "      <td>2.0</td>\n",
       "      <td>Serviced Residence</td>\n",
       "      <td>Built-up : 1,335 sq. ft.</td>\n",
       "      <td>Fully Furnished</td>\n",
       "      <td>KLCC</td>\n",
       "      <td>2</td>\n",
       "      <td>1</td>\n",
       "      <td>0</td>\n",
       "    </tr>\n",
       "    <tr>\n",
       "      <th>1</th>\n",
       "      <td>6800000</td>\n",
       "      <td>7.0</td>\n",
       "      <td>NaN</td>\n",
       "      <td>Bungalow</td>\n",
       "      <td>Land area : 6900 sq. ft.</td>\n",
       "      <td>Partly Furnished</td>\n",
       "      <td>Damansara Heights</td>\n",
       "      <td>6</td>\n",
       "      <td>0</td>\n",
       "      <td>0</td>\n",
       "    </tr>\n",
       "    <tr>\n",
       "      <th>2</th>\n",
       "      <td>1030000</td>\n",
       "      <td>4.0</td>\n",
       "      <td>2.0</td>\n",
       "      <td>Condominium (Corner)</td>\n",
       "      <td>Built-up : 1,875 sq. ft.</td>\n",
       "      <td>Partly Furnished</td>\n",
       "      <td>Dutamas</td>\n",
       "      <td>3</td>\n",
       "      <td>0</td>\n",
       "      <td>0</td>\n",
       "    </tr>\n",
       "    <tr>\n",
       "      <th>4</th>\n",
       "      <td>900000</td>\n",
       "      <td>3.0</td>\n",
       "      <td>2.0</td>\n",
       "      <td>Condominium (Corner)</td>\n",
       "      <td>Built-up : 1,513 sq. ft.</td>\n",
       "      <td>Partly Furnished</td>\n",
       "      <td>Bukit Jalil</td>\n",
       "      <td>4</td>\n",
       "      <td>1</td>\n",
       "      <td>0</td>\n",
       "    </tr>\n",
       "    <tr>\n",
       "      <th>5</th>\n",
       "      <td>5350000</td>\n",
       "      <td>5.0</td>\n",
       "      <td>4.0</td>\n",
       "      <td>Bungalow</td>\n",
       "      <td>Land area : 7200 sq. ft.</td>\n",
       "      <td>Partly Furnished</td>\n",
       "      <td>Taman Tun Dr Ismail</td>\n",
       "      <td>4</td>\n",
       "      <td>2</td>\n",
       "      <td>0</td>\n",
       "    </tr>\n",
       "  </tbody>\n",
       "</table>\n",
       "</div>"
      ],
      "text/plain": [
       "     Price  Bathrooms  Car Parks         Property Type  \\\n",
       "0  1250000        3.0        2.0    Serviced Residence   \n",
       "1  6800000        7.0        NaN              Bungalow   \n",
       "2  1030000        4.0        2.0  Condominium (Corner)   \n",
       "4   900000        3.0        2.0  Condominium (Corner)   \n",
       "5  5350000        5.0        4.0              Bungalow   \n",
       "\n",
       "                       Size        Furnishing             Location Bedrooms  \\\n",
       "0  Built-up : 1,335 sq. ft.   Fully Furnished                 KLCC        2   \n",
       "1  Land area : 6900 sq. ft.  Partly Furnished    Damansara Heights        6   \n",
       "2  Built-up : 1,875 sq. ft.  Partly Furnished              Dutamas        3   \n",
       "4  Built-up : 1,513 sq. ft.  Partly Furnished          Bukit Jalil        4   \n",
       "5  Land area : 7200 sq. ft.  Partly Furnished  Taman Tun Dr Ismail        4   \n",
       "\n",
       "  Additional_Rooms  Studio  \n",
       "0                1       0  \n",
       "1                0       0  \n",
       "2                0       0  \n",
       "4                1       0  \n",
       "5                2       0  "
      ]
     },
     "execution_count": 461,
     "metadata": {},
     "output_type": "execute_result"
    }
   ],
   "source": [
    "#Create new column with Studio [0,1] when bedrooms has value as Studio\n",
    "data['Studio'] = data['Bedrooms'].apply(lambda x: 1 if 'studio' in str(x).lower() else 0)\n",
    "data.head(5)"
   ]
  },
  {
   "cell_type": "code",
   "execution_count": 479,
   "metadata": {},
   "outputs": [],
   "source": [
    "data1 = data.copy()"
   ]
  },
  {
   "cell_type": "code",
   "execution_count": 472,
   "metadata": {},
   "outputs": [
    {
     "data": {
      "text/plain": [
       "Price                   0\n",
       "Bathrooms            1171\n",
       "Car Parks           15529\n",
       "Property Type           0\n",
       "Size                  988\n",
       "Furnishing           6366\n",
       "Location                0\n",
       "Bedrooms             1538\n",
       "Additional_Rooms        0\n",
       "Studio                  0\n",
       "dtype: int64"
      ]
     },
     "execution_count": 472,
     "metadata": {},
     "output_type": "execute_result"
    }
   ],
   "source": [
    "data.isna().sum()"
   ]
  },
  {
   "cell_type": "code",
   "execution_count": 469,
   "metadata": {},
   "outputs": [],
   "source": [
    "#Replace Bedrooms with 0 when property is Studio\n",
    "\n",
    "data['Bedrooms'] = data['Bedrooms'].str.replace('Studio', '1', case=False)"
   ]
  },
  {
   "cell_type": "code",
   "execution_count": 478,
   "metadata": {},
   "outputs": [
    {
     "data": {
      "text/plain": [
       "Bedrooms\n",
       "3      20729\n",
       "4       9100\n",
       "2       6722\n",
       "5       4549\n",
       "1       3878\n",
       "6       1758\n",
       "0        644\n",
       "7        603\n",
       "8        191\n",
       "4.0       90\n",
       "9         53\n",
       "10        37\n",
       "12        12\n",
       "11         9\n",
       "20         8\n",
       "13         5\n",
       "14         2\n",
       "16         2\n",
       "15         1\n",
       "18         1\n",
       "Name: count, dtype: int64"
      ]
     },
     "execution_count": 478,
     "metadata": {},
     "output_type": "execute_result"
    }
   ],
   "source": [
    "data['Bedrooms'].value_counts()"
   ]
  },
  {
   "cell_type": "code",
   "execution_count": 470,
   "metadata": {},
   "outputs": [],
   "source": [
    "#Remove string value 'above' from Bedrooms column\n",
    "\n",
    "data['Bedrooms'] = data['Bedrooms'].str.replace(' Above', '', regex=False)"
   ]
  },
  {
   "cell_type": "code",
   "execution_count": 471,
   "metadata": {},
   "outputs": [],
   "source": [
    "# Replace 'Bathrooms' values with 20 where 'Bedrooms' contain 20\n",
    "data.loc[data['Bedrooms'] == '20', 'Bathrooms'] = 20"
   ]
  },
  {
   "cell_type": "code",
   "execution_count": 484,
   "metadata": {},
   "outputs": [],
   "source": [
    "# Fill NaN values in the 'Bedrooms' column with 0 where 'Property Type' contains 'residential property'\n",
    "data.loc[data['Property Type'].str.contains('Land', case=False), 'Bedrooms'] = data['Bedrooms'].fillna(0)"
   ]
  },
  {
   "cell_type": "code",
   "execution_count": 125,
   "metadata": {},
   "outputs": [
    {
     "data": {
      "text/html": [
       "<div>\n",
       "<style scoped>\n",
       "    .dataframe tbody tr th:only-of-type {\n",
       "        vertical-align: middle;\n",
       "    }\n",
       "\n",
       "    .dataframe tbody tr th {\n",
       "        vertical-align: top;\n",
       "    }\n",
       "\n",
       "    .dataframe thead th {\n",
       "        text-align: right;\n",
       "    }\n",
       "</style>\n",
       "<table border=\"1\" class=\"dataframe\">\n",
       "  <thead>\n",
       "    <tr style=\"text-align: right;\">\n",
       "      <th></th>\n",
       "      <th>Price</th>\n",
       "      <th>Bathrooms</th>\n",
       "      <th>Car Parks</th>\n",
       "      <th>Property Type</th>\n",
       "      <th>Size</th>\n",
       "      <th>Furnishing</th>\n",
       "      <th>Location</th>\n",
       "      <th>Bedrooms</th>\n",
       "      <th>Additional_Rooms</th>\n",
       "      <th>Studio</th>\n",
       "    </tr>\n",
       "  </thead>\n",
       "  <tbody>\n",
       "    <tr>\n",
       "      <th>0</th>\n",
       "      <td>1250000</td>\n",
       "      <td>3.0</td>\n",
       "      <td>2.0</td>\n",
       "      <td>Serviced Residence</td>\n",
       "      <td>Built-up : 1,335 sq. ft.</td>\n",
       "      <td>Fully Furnished</td>\n",
       "      <td>KLCC</td>\n",
       "      <td>2</td>\n",
       "      <td>1</td>\n",
       "      <td>0</td>\n",
       "    </tr>\n",
       "    <tr>\n",
       "      <th>1</th>\n",
       "      <td>6800000</td>\n",
       "      <td>7.0</td>\n",
       "      <td>NaN</td>\n",
       "      <td>Bungalow</td>\n",
       "      <td>Land area : 6900 sq. ft.</td>\n",
       "      <td>Partly Furnished</td>\n",
       "      <td>Damansara Heights</td>\n",
       "      <td>6</td>\n",
       "      <td>0</td>\n",
       "      <td>0</td>\n",
       "    </tr>\n",
       "    <tr>\n",
       "      <th>2</th>\n",
       "      <td>1030000</td>\n",
       "      <td>4.0</td>\n",
       "      <td>2.0</td>\n",
       "      <td>Condominium (Corner)</td>\n",
       "      <td>Built-up : 1,875 sq. ft.</td>\n",
       "      <td>Partly Furnished</td>\n",
       "      <td>Dutamas</td>\n",
       "      <td>3</td>\n",
       "      <td>0</td>\n",
       "      <td>0</td>\n",
       "    </tr>\n",
       "    <tr>\n",
       "      <th>4</th>\n",
       "      <td>900000</td>\n",
       "      <td>3.0</td>\n",
       "      <td>2.0</td>\n",
       "      <td>Condominium (Corner)</td>\n",
       "      <td>Built-up : 1,513 sq. ft.</td>\n",
       "      <td>Partly Furnished</td>\n",
       "      <td>Bukit Jalil</td>\n",
       "      <td>4</td>\n",
       "      <td>1</td>\n",
       "      <td>0</td>\n",
       "    </tr>\n",
       "    <tr>\n",
       "      <th>5</th>\n",
       "      <td>5350000</td>\n",
       "      <td>5.0</td>\n",
       "      <td>4.0</td>\n",
       "      <td>Bungalow</td>\n",
       "      <td>Land area : 7200 sq. ft.</td>\n",
       "      <td>Partly Furnished</td>\n",
       "      <td>Taman Tun Dr Ismail</td>\n",
       "      <td>4</td>\n",
       "      <td>2</td>\n",
       "      <td>0</td>\n",
       "    </tr>\n",
       "  </tbody>\n",
       "</table>\n",
       "</div>"
      ],
      "text/plain": [
       "     Price  Bathrooms  Car Parks         Property Type  \\\n",
       "0  1250000        3.0        2.0    Serviced Residence   \n",
       "1  6800000        7.0        NaN              Bungalow   \n",
       "2  1030000        4.0        2.0  Condominium (Corner)   \n",
       "4   900000        3.0        2.0  Condominium (Corner)   \n",
       "5  5350000        5.0        4.0              Bungalow   \n",
       "\n",
       "                       Size        Furnishing             Location Bedrooms  \\\n",
       "0  Built-up : 1,335 sq. ft.   Fully Furnished                 KLCC        2   \n",
       "1  Land area : 6900 sq. ft.  Partly Furnished    Damansara Heights        6   \n",
       "2  Built-up : 1,875 sq. ft.  Partly Furnished              Dutamas        3   \n",
       "4  Built-up : 1,513 sq. ft.  Partly Furnished          Bukit Jalil        4   \n",
       "5  Land area : 7200 sq. ft.  Partly Furnished  Taman Tun Dr Ismail        4   \n",
       "\n",
       "  Additional_Rooms  Studio  \n",
       "0                1       0  \n",
       "1                0       0  \n",
       "2                0       0  \n",
       "4                1       0  \n",
       "5                2       0  "
      ]
     },
     "execution_count": 125,
     "metadata": {},
     "output_type": "execute_result"
    }
   ],
   "source": [
    "data.head(5)"
   ]
  },
  {
   "cell_type": "code",
   "execution_count": 485,
   "metadata": {},
   "outputs": [
    {
     "name": "stdout",
     "output_type": "stream",
     "text": [
      "<class 'pandas.core.frame.DataFrame'>\n",
      "Index: 49198 entries, 0 to 49415\n",
      "Data columns (total 10 columns):\n",
      " #   Column            Non-Null Count  Dtype  \n",
      "---  ------            --------------  -----  \n",
      " 0   Price             49198 non-null  int64  \n",
      " 1   Bathrooms         48027 non-null  float64\n",
      " 2   Car Parks         33669 non-null  float64\n",
      " 3   Property Type     49198 non-null  object \n",
      " 4   Size              48210 non-null  object \n",
      " 5   Furnishing        42832 non-null  object \n",
      " 6   Location          49198 non-null  object \n",
      " 7   Bedrooms          48635 non-null  object \n",
      " 8   Additional_Rooms  49198 non-null  object \n",
      " 9   Studio            49198 non-null  int64  \n",
      "dtypes: float64(2), int64(2), object(6)\n",
      "memory usage: 5.1+ MB\n"
     ]
    },
    {
     "data": {
      "text/plain": [
       "Price                   0\n",
       "Bathrooms            1171\n",
       "Car Parks           15529\n",
       "Property Type           0\n",
       "Size                  988\n",
       "Furnishing           6366\n",
       "Location                0\n",
       "Bedrooms              563\n",
       "Additional_Rooms        0\n",
       "Studio                  0\n",
       "dtype: int64"
      ]
     },
     "execution_count": 485,
     "metadata": {},
     "output_type": "execute_result"
    }
   ],
   "source": [
    "data.info()\n",
    "data.isna().sum()"
   ]
  },
  {
   "cell_type": "code",
   "execution_count": 475,
   "metadata": {},
   "outputs": [
    {
     "data": {
      "text/plain": [
       "4.0"
      ]
     },
     "execution_count": 475,
     "metadata": {},
     "output_type": "execute_result"
    }
   ],
   "source": [
    "#Replace nan bedroom values for terrace link house with mean value \n",
    "\n",
    "numeric_bedrooms = pd.to_numeric(data['Bedrooms'], errors='coerce')\n",
    "\n",
    "# Calculate the mean of numeric bedrooms for 'terrace link house'\n",
    "terrace_link_mean = numeric_bedrooms[data['Property Type'].str.contains('Link House', case=False)].mean()\n",
    "np.round(terrace_link_mean, 0)\n"
   ]
  },
  {
   "cell_type": "code",
   "execution_count": 476,
   "metadata": {},
   "outputs": [],
   "source": [
    "data.loc[data['Property Type'].str.contains('Terrace/Link House', case=False), 'Bedrooms'] = data['Bedrooms'].fillna(np.round(terrace_link_mean, 0))"
   ]
  },
  {
   "cell_type": "code",
   "execution_count": 480,
   "metadata": {},
   "outputs": [
    {
     "data": {
      "text/plain": [
       "Price                   0\n",
       "Bathrooms            1171\n",
       "Car Parks           15529\n",
       "Property Type           0\n",
       "Size                  988\n",
       "Furnishing           6366\n",
       "Location                0\n",
       "Bedrooms              804\n",
       "Additional_Rooms        0\n",
       "Studio                  0\n",
       "dtype: int64"
      ]
     },
     "execution_count": 480,
     "metadata": {},
     "output_type": "execute_result"
    }
   ],
   "source": [
    "data.isna().sum()"
   ]
  },
  {
   "cell_type": "code",
   "execution_count": 481,
   "metadata": {},
   "outputs": [
    {
     "data": {
      "text/plain": [
       "Bedrooms\n",
       "3      20729\n",
       "4       9100\n",
       "2       6722\n",
       "5       4549\n",
       "1       3878\n",
       "6       1758\n",
       "0        644\n",
       "7        603\n",
       "8        191\n",
       "4.0       90\n",
       "9         53\n",
       "10        37\n",
       "12        12\n",
       "11         9\n",
       "20         8\n",
       "13         5\n",
       "14         2\n",
       "16         2\n",
       "15         1\n",
       "18         1\n",
       "Name: count, dtype: int64"
      ]
     },
     "execution_count": 481,
     "metadata": {},
     "output_type": "execute_result"
    }
   ],
   "source": [
    "data['Bedrooms'].value_counts()"
   ]
  },
  {
   "cell_type": "code",
   "execution_count": 487,
   "metadata": {},
   "outputs": [],
   "source": [
    "#Replace nan bedroom values for Bungalow with mean value \n",
    "bungalow_mean = numeric_bedrooms[data['Property Type'].str.contains('Bungalow', case=False)].mean()\n",
    "data.loc[data['Property Type'].str.contains('Bungalow', case=False), 'Bedrooms'] = data['Bedrooms'].fillna(np.round(bungalow_mean, 0))\n",
    "\n",
    "#Replace nan bedroom values for condominium with mean value \n",
    "condominium_mean = numeric_bedrooms[data['Property Type'].str.contains('Condominium', case=False)].mean()\n",
    "data.loc[data['Property Type'].str.contains('Condominium', case=False), 'Bedrooms'] = data['Bedrooms'].fillna(np.round(condominium_mean, 0))\n",
    "\n",
    "#Replace nan bedroom values for condominium with mean value\n",
    "apartment_mean = numeric_bedrooms[data['Property Type'].str.contains('Apartment', case=False)].mean()\n",
    "data.loc[data['Property Type'].str.contains('Apartment', case=False), 'Bedrooms'] = data['Bedrooms'].fillna(np.round(apartment_mean, 0))\n",
    "\n",
    "#Replace nan bedroom values for Semi-detached House with mean value\n",
    "semi_detached_house_mean = numeric_bedrooms[data['Property Type'].str.contains('Semi-detached House', case=False)].mean()\n",
    "data.loc[data['Property Type'].str.contains('Semi-detached House', case=False), 'Bedrooms'] = data['Bedrooms'].fillna(np.round(semi_detached_house_mean, 0))\n",
    "\n",
    "#Replace nan bedroom values for Serviced Residence with mean value\n",
    "serviced_residence_mean = numeric_bedrooms[data['Property Type'].str.contains('Serviced Residence', case=False)].mean()\n",
    "data.loc[data['Property Type'].str.contains('Serviced Residence', case=False), 'Bedrooms'] = data['Bedrooms'].fillna(np.round(serviced_residence_mean, 0))\n",
    "\n"
   ]
  },
  {
   "cell_type": "code",
   "execution_count": 496,
   "metadata": {},
   "outputs": [
    {
     "data": {
      "text/plain": [
       "Price                   0\n",
       "Bathrooms              23\n",
       "Car Parks           15529\n",
       "Property Type           0\n",
       "Size                  988\n",
       "Furnishing           6366\n",
       "Location                0\n",
       "Bedrooms                0\n",
       "Additional_Rooms        0\n",
       "Studio                  0\n",
       "dtype: int64"
      ]
     },
     "execution_count": 496,
     "metadata": {},
     "output_type": "execute_result"
    }
   ],
   "source": [
    "data.isna().sum()"
   ]
  },
  {
   "cell_type": "code",
   "execution_count": 489,
   "metadata": {},
   "outputs": [],
   "source": [
    "#Replace remaining nan bedrooms values with 3 based on data trends (Flats and Town house)\n",
    "data['Bedrooms'].fillna(3, inplace=True)"
   ]
  },
  {
   "cell_type": "code",
   "execution_count": 491,
   "metadata": {},
   "outputs": [
    {
     "data": {
      "text/plain": [
       "Bathrooms\n",
       "2.0     19286\n",
       "3.0      8759\n",
       "4.0      6058\n",
       "5.0      4454\n",
       "1.0      4038\n",
       "6.0      3092\n",
       "7.0      1028\n",
       "0.0       649\n",
       "8.0       398\n",
       "9.0       142\n",
       "10.0       68\n",
       "20.0       14\n",
       "11.0       13\n",
       "12.0       12\n",
       "15.0        6\n",
       "13.0        5\n",
       "14.0        4\n",
       "16.0        1\n",
       "Name: count, dtype: int64"
      ]
     },
     "execution_count": 491,
     "metadata": {},
     "output_type": "execute_result"
    }
   ],
   "source": [
    "data['Bathrooms'].value_counts()"
   ]
  },
  {
   "cell_type": "code",
   "execution_count": 492,
   "metadata": {},
   "outputs": [],
   "source": [
    "numeric_bathrooms = pd.to_numeric(data['Bathrooms'], errors='coerce')\n",
    "\n",
    "#Replace nan Bathrooms values for Bungalow with mean value \n",
    "\n",
    "\n",
    "bungalow_mean = numeric_bathrooms[data['Property Type'].str.contains('Bungalow', case=False)].mean()\n",
    "data.loc[data['Property Type'].str.contains('Bungalow', case=False), 'Bathrooms'] = data['Bathrooms'].fillna(np.round(bungalow_mean, 0))\n",
    "\n",
    "#Replace nan Bathrooms values for condominium with mean value \n",
    "condominium_mean = numeric_bathrooms[data['Property Type'].str.contains('Condominium', case=False)].mean()\n",
    "data.loc[data['Property Type'].str.contains('Condominium', case=False), 'Bathrooms'] = data['Bathrooms'].fillna(np.round(condominium_mean, 0))\n",
    "\n",
    "#Replace nan Bathrooms values for condominium with mean value\n",
    "apartment_mean = numeric_bathrooms[data['Property Type'].str.contains('Apartment', case=False)].mean()\n",
    "data.loc[data['Property Type'].str.contains('Apartment', case=False), 'Bathrooms'] = data['Bathrooms'].fillna(np.round(apartment_mean, 0))\n",
    "\n",
    "#Replace nan Bathrooms values for Semi-detached House with mean value\n",
    "semi_detached_house_mean = numeric_bathrooms[data['Property Type'].str.contains('Semi-detached House', case=False)].mean()\n",
    "data.loc[data['Property Type'].str.contains('Semi-detached House', case=False), 'Bathrooms'] = data['Bathrooms'].fillna(np.round(semi_detached_house_mean, 0))\n",
    "\n",
    "#Replace nan Bathrooms values for Serviced Residence with mean value\n",
    "serviced_residence_mean = numeric_bathrooms[data['Property Type'].str.contains('Serviced Residence', case=False)].mean()\n",
    "data.loc[data['Property Type'].str.contains('Serviced Residence', case=False), 'Bathrooms'] = data['Bathrooms'].fillna(np.round(serviced_residence_mean, 0))\n",
    "\n",
    "#Replace nan Bathrooms values for terrace/link huse with mean value\n",
    "terrace_link_mean = numeric_bathrooms[data['Property Type'].str.contains('Link House', case=False)].mean()\n",
    "data.loc[data['Property Type'].str.contains('Link House', case=False), 'Bathrooms'] = data['Bathrooms'].fillna(np.round(terrace_link_mean, 0))\n"
   ]
  },
  {
   "cell_type": "code",
   "execution_count": 497,
   "metadata": {},
   "outputs": [],
   "source": [
    "#Replace remaining values with 3 based on data trends (Flats and Town house) -- 23 rows\n",
    "data['Bathrooms'].fillna(3, inplace=True)"
   ]
  },
  {
   "cell_type": "code",
   "execution_count": 501,
   "metadata": {},
   "outputs": [],
   "source": [
    "data.to_csv('KL_new_data.csv', index=False)"
   ]
  },
  {
   "cell_type": "code",
   "execution_count": 503,
   "metadata": {},
   "outputs": [
    {
     "data": {
      "text/plain": [
       "Price                  0\n",
       "Bathrooms              0\n",
       "Car Parks              0\n",
       "Property Type          0\n",
       "Size                 988\n",
       "Furnishing          6366\n",
       "Location               0\n",
       "Bedrooms               0\n",
       "Additional_Rooms       0\n",
       "Studio                 0\n",
       "dtype: int64"
      ]
     },
     "execution_count": 503,
     "metadata": {},
     "output_type": "execute_result"
    }
   ],
   "source": [
    "data.isna().sum()"
   ]
  },
  {
   "cell_type": "code",
   "execution_count": 499,
   "metadata": {},
   "outputs": [],
   "source": [
    "numeric_car_parks = pd.to_numeric(data['Car Parks'], errors='coerce')\n",
    "\n",
    "#Replace nan Car Parks values for Bungalow with mean value \n",
    "\n",
    "\n",
    "bungalow_mean = numeric_car_parks[data['Property Type'].str.contains('Bungalow', case=False)].mean()\n",
    "data.loc[data['Property Type'].str.contains('Bungalow', case=False), 'Car Parks'] = data['Car Parks'].fillna(np.round(bungalow_mean, 0))\n",
    "\n",
    "#Replace nan Car Parks values for condominium with mean value \n",
    "condominium_mean = numeric_car_parks[data['Property Type'].str.contains('Condominium', case=False)].mean()\n",
    "data.loc[data['Property Type'].str.contains('Condominium', case=False), 'Car Parks'] = data['Car Parks'].fillna(np.round(condominium_mean, 0))\n",
    "\n",
    "#Replace nan Car Parks values for condominium with mean value\n",
    "apartment_mean = numeric_car_parks[data['Property Type'].str.contains('Apartment', case=False)].mean()\n",
    "data.loc[data['Property Type'].str.contains('Apartment', case=False), 'Car Parks'] = data['Car Parks'].fillna(np.round(apartment_mean, 0))\n",
    "\n",
    "#Replace nan Car Parks values for Semi-detached House with mean value\n",
    "semi_detached_house_mean = numeric_car_parks[data['Property Type'].str.contains('Semi-detached House', case=False)].mean()\n",
    "data.loc[data['Property Type'].str.contains('Semi-detached House', case=False), 'Car Parks'] = data['Car Parks'].fillna(np.round(semi_detached_house_mean, 0))\n",
    "\n",
    "#Replace nan Car Parks values for Serviced Residence with mean value\n",
    "serviced_residence_mean = numeric_car_parks[data['Property Type'].str.contains('Serviced Residence', case=False)].mean()\n",
    "data.loc[data['Property Type'].str.contains('Serviced Residence', case=False), 'Car Parks'] = data['Car Parks'].fillna(np.round(serviced_residence_mean, 0))\n",
    "\n",
    "#Replace nan Car Parks values for terrace/link house with mean value\n",
    "terrace_link_mean = numeric_car_parks[data['Property Type'].str.contains('Link House', case=False)].mean()\n",
    "data.loc[data['Property Type'].str.contains('Link House', case=False), 'Car Parks'] = data['Car Parks'].fillna(np.round(terrace_link_mean, 0))\n",
    "\n",
    "#Replace nan Car Parks values for Flat house with mean value\n",
    "flat_mean = numeric_car_parks[data['Property Type'].str.contains('Flat', case=False)].mean()\n",
    "data.loc[data['Property Type'].str.contains('Flat', case=False), 'Car Parks'] = data['Car Parks'].fillna(np.round(flat_mean, 0))\n",
    "\n",
    "#Replace nan Car Parks values for town house with mean value\n",
    "townhouse_mean = numeric_car_parks[data['Property Type'].str.contains('Townhouse', case=False)].mean()\n",
    "data.loc[data['Property Type'].str.contains('Townhouse', case=False), 'Car Parks'] = data['Car Parks'].fillna(np.round(townhouse_mean, 0))"
   ]
  },
  {
   "cell_type": "code",
   "execution_count": 502,
   "metadata": {},
   "outputs": [],
   "source": [
    "#Replace remaining car parks nan values with 1 random --3 rows -- for cluster house (values from dataser : 2,3,4, mean = 3)\n",
    "data['Car Parks'].fillna(3, inplace=True)"
   ]
  },
  {
   "cell_type": "code",
   "execution_count": null,
   "metadata": {},
   "outputs": [],
   "source": [
    "data.Furnishing"
   ]
  }
 ],
 "metadata": {
  "kernelspec": {
   "display_name": "base",
   "language": "python",
   "name": "python3"
  },
  "language_info": {
   "codemirror_mode": {
    "name": "ipython",
    "version": 3
   },
   "file_extension": ".py",
   "mimetype": "text/x-python",
   "name": "python",
   "nbconvert_exporter": "python",
   "pygments_lexer": "ipython3",
   "version": "3.11.5"
  }
 },
 "nbformat": 4,
 "nbformat_minor": 2
}
