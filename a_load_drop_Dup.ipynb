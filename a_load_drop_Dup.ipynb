{
 "cells": [
  {
   "cell_type": "code",
   "execution_count": 2,
   "metadata": {},
   "outputs": [],
   "source": [
    "#importing data management, data visualisation libraries.\n",
    "import numpy as np\n",
    "import pandas as pd\n",
    "import matplotlib.pyplot as plt\n",
    "import seaborn as sns"
   ]
  },
  {
   "cell_type": "code",
   "execution_count": 9,
   "metadata": {},
   "outputs": [
    {
     "data": {
      "text/html": [
       "<div>\n",
       "<style scoped>\n",
       "    .dataframe tbody tr th:only-of-type {\n",
       "        vertical-align: middle;\n",
       "    }\n",
       "\n",
       "    .dataframe tbody tr th {\n",
       "        vertical-align: top;\n",
       "    }\n",
       "\n",
       "    .dataframe thead th {\n",
       "        text-align: right;\n",
       "    }\n",
       "</style>\n",
       "<table border=\"1\" class=\"dataframe\">\n",
       "  <thead>\n",
       "    <tr style=\"text-align: right;\">\n",
       "      <th></th>\n",
       "      <th>Location</th>\n",
       "      <th>Price</th>\n",
       "      <th>Rooms</th>\n",
       "      <th>Bathrooms</th>\n",
       "      <th>Car Parks</th>\n",
       "      <th>Property Type</th>\n",
       "      <th>Size</th>\n",
       "      <th>Furnishing</th>\n",
       "    </tr>\n",
       "  </thead>\n",
       "  <tbody>\n",
       "    <tr>\n",
       "      <th>0</th>\n",
       "      <td>KLCC, Kuala Lumpur</td>\n",
       "      <td>RM 1,250,000</td>\n",
       "      <td>2+1</td>\n",
       "      <td>3.0</td>\n",
       "      <td>2.0</td>\n",
       "      <td>Serviced Residence</td>\n",
       "      <td>Built-up : 1,335 sq. ft.</td>\n",
       "      <td>Fully Furnished</td>\n",
       "    </tr>\n",
       "    <tr>\n",
       "      <th>1</th>\n",
       "      <td>Damansara Heights, Kuala Lumpur</td>\n",
       "      <td>RM 6,800,000</td>\n",
       "      <td>6</td>\n",
       "      <td>7.0</td>\n",
       "      <td>NaN</td>\n",
       "      <td>Bungalow</td>\n",
       "      <td>Land area : 6900 sq. ft.</td>\n",
       "      <td>Partly Furnished</td>\n",
       "    </tr>\n",
       "    <tr>\n",
       "      <th>2</th>\n",
       "      <td>Dutamas, Kuala Lumpur</td>\n",
       "      <td>RM 1,030,000</td>\n",
       "      <td>3</td>\n",
       "      <td>4.0</td>\n",
       "      <td>2.0</td>\n",
       "      <td>Condominium (Corner)</td>\n",
       "      <td>Built-up : 1,875 sq. ft.</td>\n",
       "      <td>Partly Furnished</td>\n",
       "    </tr>\n",
       "    <tr>\n",
       "      <th>3</th>\n",
       "      <td>Cheras, Kuala Lumpur</td>\n",
       "      <td>NaN</td>\n",
       "      <td>NaN</td>\n",
       "      <td>NaN</td>\n",
       "      <td>NaN</td>\n",
       "      <td>NaN</td>\n",
       "      <td>NaN</td>\n",
       "      <td>NaN</td>\n",
       "    </tr>\n",
       "    <tr>\n",
       "      <th>4</th>\n",
       "      <td>Bukit Jalil, Kuala Lumpur</td>\n",
       "      <td>RM 900,000</td>\n",
       "      <td>4+1</td>\n",
       "      <td>3.0</td>\n",
       "      <td>2.0</td>\n",
       "      <td>Condominium (Corner)</td>\n",
       "      <td>Built-up : 1,513 sq. ft.</td>\n",
       "      <td>Partly Furnished</td>\n",
       "    </tr>\n",
       "    <tr>\n",
       "      <th>...</th>\n",
       "      <td>...</td>\n",
       "      <td>...</td>\n",
       "      <td>...</td>\n",
       "      <td>...</td>\n",
       "      <td>...</td>\n",
       "      <td>...</td>\n",
       "      <td>...</td>\n",
       "      <td>...</td>\n",
       "    </tr>\n",
       "    <tr>\n",
       "      <th>53878</th>\n",
       "      <td>Bangsar, Kuala Lumpur</td>\n",
       "      <td>RM 5,100,000</td>\n",
       "      <td>5+1</td>\n",
       "      <td>4.0</td>\n",
       "      <td>NaN</td>\n",
       "      <td>Bungalow (Corner)</td>\n",
       "      <td>Land area : 7168 sq. ft.</td>\n",
       "      <td>Fully Furnished</td>\n",
       "    </tr>\n",
       "    <tr>\n",
       "      <th>53879</th>\n",
       "      <td>Bangsar, Kuala Lumpur</td>\n",
       "      <td>RM 5,000,000</td>\n",
       "      <td>5</td>\n",
       "      <td>4.0</td>\n",
       "      <td>NaN</td>\n",
       "      <td>Bungalow (Intermediate)</td>\n",
       "      <td>Land area : 15000 sq. ft.</td>\n",
       "      <td>Unfurnished</td>\n",
       "    </tr>\n",
       "    <tr>\n",
       "      <th>53880</th>\n",
       "      <td>Bangsar, Kuala Lumpur</td>\n",
       "      <td>RM 5,500,000</td>\n",
       "      <td>5+1</td>\n",
       "      <td>4.0</td>\n",
       "      <td>NaN</td>\n",
       "      <td>Bungalow (Intermediate)</td>\n",
       "      <td>Land area : 7168 sq. ft.</td>\n",
       "      <td>Partly Furnished</td>\n",
       "    </tr>\n",
       "    <tr>\n",
       "      <th>53881</th>\n",
       "      <td>Wangsa Maju, Kuala Lumpur</td>\n",
       "      <td>RM 480,000</td>\n",
       "      <td>3</td>\n",
       "      <td>2.0</td>\n",
       "      <td>NaN</td>\n",
       "      <td>Condominium (Intermediate)</td>\n",
       "      <td>Built-up : 1,150 sq. ft.</td>\n",
       "      <td>Unfurnished</td>\n",
       "    </tr>\n",
       "    <tr>\n",
       "      <th>53882</th>\n",
       "      <td>Setapak, Kuala Lumpur</td>\n",
       "      <td>RM 540,000</td>\n",
       "      <td>4</td>\n",
       "      <td>2.0</td>\n",
       "      <td>3.0</td>\n",
       "      <td>Condominium (Intermediate)</td>\n",
       "      <td>Built-up : 1,313 sq. ft.</td>\n",
       "      <td>Partly Furnished</td>\n",
       "    </tr>\n",
       "  </tbody>\n",
       "</table>\n",
       "<p>53883 rows × 8 columns</p>\n",
       "</div>"
      ],
      "text/plain": [
       "                              Location         Price Rooms  Bathrooms  \\\n",
       "0                   KLCC, Kuala Lumpur  RM 1,250,000   2+1        3.0   \n",
       "1      Damansara Heights, Kuala Lumpur  RM 6,800,000     6        7.0   \n",
       "2                Dutamas, Kuala Lumpur  RM 1,030,000     3        4.0   \n",
       "3                 Cheras, Kuala Lumpur           NaN   NaN        NaN   \n",
       "4            Bukit Jalil, Kuala Lumpur    RM 900,000   4+1        3.0   \n",
       "...                                ...           ...   ...        ...   \n",
       "53878            Bangsar, Kuala Lumpur  RM 5,100,000   5+1        4.0   \n",
       "53879            Bangsar, Kuala Lumpur  RM 5,000,000     5        4.0   \n",
       "53880            Bangsar, Kuala Lumpur  RM 5,500,000   5+1        4.0   \n",
       "53881        Wangsa Maju, Kuala Lumpur    RM 480,000     3        2.0   \n",
       "53882            Setapak, Kuala Lumpur    RM 540,000     4        2.0   \n",
       "\n",
       "       Car Parks               Property Type                       Size  \\\n",
       "0            2.0          Serviced Residence   Built-up : 1,335 sq. ft.   \n",
       "1            NaN                    Bungalow   Land area : 6900 sq. ft.   \n",
       "2            2.0        Condominium (Corner)   Built-up : 1,875 sq. ft.   \n",
       "3            NaN                         NaN                        NaN   \n",
       "4            2.0        Condominium (Corner)   Built-up : 1,513 sq. ft.   \n",
       "...          ...                         ...                        ...   \n",
       "53878        NaN           Bungalow (Corner)   Land area : 7168 sq. ft.   \n",
       "53879        NaN     Bungalow (Intermediate)  Land area : 15000 sq. ft.   \n",
       "53880        NaN     Bungalow (Intermediate)   Land area : 7168 sq. ft.   \n",
       "53881        NaN  Condominium (Intermediate)   Built-up : 1,150 sq. ft.   \n",
       "53882        3.0  Condominium (Intermediate)   Built-up : 1,313 sq. ft.   \n",
       "\n",
       "             Furnishing  \n",
       "0       Fully Furnished  \n",
       "1      Partly Furnished  \n",
       "2      Partly Furnished  \n",
       "3                   NaN  \n",
       "4      Partly Furnished  \n",
       "...                 ...  \n",
       "53878   Fully Furnished  \n",
       "53879       Unfurnished  \n",
       "53880  Partly Furnished  \n",
       "53881       Unfurnished  \n",
       "53882  Partly Furnished  \n",
       "\n",
       "[53883 rows x 8 columns]"
      ]
     },
     "execution_count": 9,
     "metadata": {},
     "output_type": "execute_result"
    }
   ],
   "source": [
    "#load dataset\n",
    "data=pd.read_csv('KL Real Estate.csv')\n",
    "\n",
    "data"
   ]
  },
  {
   "cell_type": "code",
   "execution_count": 12,
   "metadata": {},
   "outputs": [
    {
     "data": {
      "text/plain": [
       "4467"
      ]
     },
     "execution_count": 12,
     "metadata": {},
     "output_type": "execute_result"
    }
   ],
   "source": [
    "data.duplicated().sum()"
   ]
  },
  {
   "cell_type": "code",
   "execution_count": 13,
   "metadata": {},
   "outputs": [],
   "source": [
    "data.drop_duplicates(inplace=True)"
   ]
  },
  {
   "cell_type": "code",
   "execution_count": 14,
   "metadata": {},
   "outputs": [],
   "source": [
    "data.reset_index(drop=True, inplace=True)"
   ]
  },
  {
   "cell_type": "code",
   "execution_count": 7,
   "metadata": {},
   "outputs": [
    {
     "data": {
      "text/plain": [
       "Location             0\n",
       "Price              218\n",
       "Rooms             1580\n",
       "Bathrooms         1864\n",
       "Car Parks        16302\n",
       "Property Type       18\n",
       "Size              1016\n",
       "Furnishing        6427\n",
       "dtype: int64"
      ]
     },
     "execution_count": 7,
     "metadata": {},
     "output_type": "execute_result"
    }
   ],
   "source": [
    "data.isna().sum()"
   ]
  },
  {
   "cell_type": "code",
   "execution_count": 15,
   "metadata": {},
   "outputs": [
    {
     "name": "stdout",
     "output_type": "stream",
     "text": [
      "<class 'pandas.core.frame.DataFrame'>\n",
      "RangeIndex: 49416 entries, 0 to 49415\n",
      "Data columns (total 8 columns):\n",
      " #   Column         Non-Null Count  Dtype  \n",
      "---  ------         --------------  -----  \n",
      " 0   Location       49416 non-null  object \n",
      " 1   Price          49198 non-null  object \n",
      " 2   Rooms          47836 non-null  object \n",
      " 3   Bathrooms      47552 non-null  float64\n",
      " 4   Car Parks      33114 non-null  float64\n",
      " 5   Property Type  49398 non-null  object \n",
      " 6   Size           48400 non-null  object \n",
      " 7   Furnishing     42989 non-null  object \n",
      "dtypes: float64(2), object(6)\n",
      "memory usage: 3.0+ MB\n"
     ]
    }
   ],
   "source": [
    "data.info()"
   ]
  },
  {
   "cell_type": "code",
   "execution_count": 16,
   "metadata": {},
   "outputs": [],
   "source": [
    "data.to_csv('KL_no_duplicates_data.csv', index=False)"
   ]
  }
 ],
 "metadata": {
  "kernelspec": {
   "display_name": "Python 3",
   "language": "python",
   "name": "python3"
  },
  "language_info": {
   "codemirror_mode": {
    "name": "ipython",
    "version": 3
   },
   "file_extension": ".py",
   "mimetype": "text/x-python",
   "name": "python",
   "nbconvert_exporter": "python",
   "pygments_lexer": "ipython3",
   "version": "3.11.5"
  },
  "orig_nbformat": 4
 },
 "nbformat": 4,
 "nbformat_minor": 2
}
